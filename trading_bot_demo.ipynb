{
 "cells": [
  {
   "cell_type": "markdown",
   "metadata": {},
   "source": [
    "# GenZ Trading Bot Demo"
   ]
  },
  {
   "cell_type": "markdown",
   "metadata": {},
   "source": [
    "This notebook demonstrates the core features of the GenZ Trading Bot, including technical indicators and pattern detection."
   ]
  },
  {
   "cell_type": "markdown",
   "metadata": {},
   "source": [
    "## 1. Install Dependencies"
   ]
  },
  {
   "cell_type": "code",
   "execution_count": null,
   "metadata": {},
   "outputs": [],
   "source": [
    "!pip install numpy"
   ]
  },
  {
   "cell_type": "markdown",
   "metadata": {},
   "source": [
    "## 2. Load Sample Market Data"
   ]
  },
  {
   "cell_type": "code",
   "execution_count": null,
   "metadata": {},
   "outputs": [],
   "source": [
    "import numpy as np\n",
    "\n",
    "# Sample market data (replace with your own data)\n",
    "market_data = {\n",
    "    \"symbol\": \"BTCUSDT\",\n",
    "    \"open\": np.random.uniform(40000, 41000, 100),\n",
    "    \"high\": np.random.uniform(41000, 42000, 100),\n",
    "    \"low\": np.random.uniform(39000, 40000, 100),\n",
    "    \"close\": np.random.uniform(40000, 41000, 100),\n",
    "    \"volume\": np.random.uniform(1000, 2000, 100)\n",
    "}"
   ]
  },
  {
   "cell_type": "markdown",
   "metadata": {},
   "source": [
    "## 3. Technical Indicators"
   ]
  },
  {
   "cell_type": "code",
   "execution_count": null,
   "metadata": {},
   "outputs": [],
   "source": [
    "from core.indicators.rsi import calculate_rsi\n",
    "from core.indicators.macd import calculate_macd\n",
    "from core.indicators.moving_average import calculate_sma\n",
    "\n",
    "# Calculate indicators\n",
    "rsi = calculate_rsi(market_data['close'])\n",
    "macd_line, signal_line, histogram = calculate_macd(market_data['close'])\n",
    "sma = calculate_sma(market_data['close'], period=20)\n",
    "\n",
    "print(\"RSI:\", rsi[-5:])\n",
    "print(\"MACD Line:\", macd_line[-5:])\n",
    "print(\"Signal Line:\", signal_line[-5:])\n",
    "print(\"Histogram:\", histogram[-5:])\n",
    "print(\"SMA:\", sma[-5:])"
   ]
  },
  {
   "cell_type": "markdown",
   "metadata": {},
   "source": [
    "## 4. Pattern Detection"
   ]
  },
  {
   "cell_type": "code",
   "execution_count": null,
   "metadata": {},
   "outputs": [],
   "source": [
    "from core.patterns.pattern_detector import detect_patterns\n",
    "\n",
    "# Detect patterns\n",
    "patterns = detect_patterns(market_data)\n",
    "\n",
    "if patterns:\n",
    "    print(\"Detected Patterns:\", patterns)\n",
    "else:\n",
    "    print(\"No patterns detected.\")"
   ]
  },
  {
   "cell_type": "markdown",
   "metadata": {},
   "source": [
    "## 5. Visualize Results"
   ]
  },
  {
   "cell_type": "code",
   "execution_count": null,
   "metadata": {},
   "outputs": [],
   "source": [
    "import matplotlib.pyplot as plt\n",
    "\n",
    "# Plot close prices and SMA\n",
    "plt.figure(figsize=(12, 6))\n",
    "plt.plot(market_data['close'], label='Close Price')\n",
    "plt.plot(range(len(market_data['close']) - len(sma), len(market_data['close'])), sma, label='SMA (20)')\n",
    "plt.title('Price and SMA')\n",
    "plt.legend()\n",
    "plt.show()\n",
    "\n",
    "# Plot MACD\n",
    "plt.figure(figsize=(12, 6))\n",
    "plt.plot(range(len(market_data['close']) - len(macd_line), len(market_data['close'])), macd_line, label='MACD Line')\n",
    "plt.plot(range(len(market_data['close']) - len(signal_line), len(market_data['close'])), signal_line, label='Signal Line')\n",
    "plt.bar(range(len(market_data['close']) - len(histogram), len(market_data['close'])), histogram, label='Histogram')\n",
    "plt.title('MACD')\n",
    "plt.legend()\n",
    "plt.show()\n",
    "\n",
    "# Plot RSI\n",
    "plt.figure(figsize=(12, 6))\n",
    "plt.plot(rsi, label='RSI')\n",
    "plt.axhline(70, color='r', linestyle='--')\n",
    "plt.axhline(30, color='g', linestyle='--')\n",
    "plt.title('RSI')\n",
    "plt.legend()\n",
    "plt.show()"
   ]
  }
 ],
 "metadata": {
  "kernelspec": {
   "display_name": "Python 3",
   "language": "python",
   "name": "python3"
  },
  "language_info": {
   "codemirror_mode": {
    "name": "ipython",
    "version": 3
   },
   "file_extension": ".py",
   "mimetype": "text/x-python",
   "name": "python",
   "nbconvert_exporter": "python",
   "pygments_lexer": "ipython3",
   "version": "3.9.7"
  }
 },
 "nbformat": 4,
 "nbformat_minor": 4
}
